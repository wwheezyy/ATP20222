{
 "cells": [
  {
   "cell_type": "code",
   "execution_count": 16,
   "metadata": {},
   "outputs": [
    {
     "name": "stdout",
     "output_type": "stream",
     "text": [
      "8\n"
     ]
    }
   ],
   "source": [
    "def inicDiferente(s1, s2):\n",
    "\n",
    "    x=list(s1.replace(\" \",\"\"))\n",
    "    y=list(s2.replace(\" \",\"\"))\n",
    "   \n",
    "    for i in y:\n",
    "        if i in x:\n",
    "            n=x.index(i)\n",
    "            x.pop(n)\n",
    "\n",
    "    tam=len(x)    \n",
    "    print(tam)    \n",
    "\n",
    "\n",
    " \n",
    "inicDiferente(\"Está um bom dia...\", \"Hoje é um dia alegre.\")"
   ]
  },
  {
   "cell_type": "code",
   "execution_count": 12,
   "metadata": {},
   "outputs": [
    {
     "name": "stdout",
     "output_type": "stream",
     "text": [
      "Vai ser criada uma lista com 5 elementos\n"
     ]
    },
    {
     "data": {
      "text/plain": [
       "1"
      ]
     },
     "execution_count": 12,
     "metadata": {},
     "output_type": "execute_result"
    }
   ],
   "source": [
    "def acimaMedia(n):\n",
    "    soma=0\n",
    "    num=0\n",
    "    print(\"Vai ser criada uma lista com {} elementos\".format(n))\n",
    "    lista=[]\n",
    "    for i in range(n):\n",
    "        x=int(input(\"Digite um número\"))\n",
    "        lista.append(x)\n",
    "        soma=soma+x\n",
    "\n",
    "    media=int(soma/n)\n",
    "\n",
    "    for j in lista:\n",
    "        if j > media:\n",
    "            num+=1\n",
    "\n",
    "\n",
    "    return num\n",
    "\n",
    "\n",
    "acimaMedia(5)"
   ]
  },
  {
   "cell_type": "code",
   "execution_count": 11,
   "metadata": {},
   "outputs": [
    {
     "data": {
      "text/plain": [
       "[1, 2, 3, 4, 6, 7, 9, 12]"
      ]
     },
     "execution_count": 11,
     "metadata": {},
     "output_type": "execute_result"
    }
   ],
   "source": [
    "def merge(l1, l2):\n",
    "    listaord=[]\n",
    "    lista=[]\n",
    "    for i in l1:\n",
    "        lista.append(i)\n",
    "    for j in l2:   \n",
    "        lista.append(j) \n",
    "    n=len(lista)\n",
    "    while n>0:\n",
    "        min=lista[0]\n",
    "        for x in lista:\n",
    "            if x<min:\n",
    "                min=x\n",
    "        listaord.append(min)\n",
    "        p=lista.index(min)\n",
    "        lista.pop(p)\n",
    "      \n",
    "        n=n-1        \n",
    "\n",
    "\n",
    "\n",
    "           \n",
    "\n",
    "    return listaord\n",
    "\n",
    "\n",
    "\n",
    "merge([1,2,6,9], [3,4,7,12])           "
   ]
  },
  {
   "cell_type": "code",
   "execution_count": null,
   "metadata": {},
   "outputs": [],
   "source": [
    "def figuais(f1, f2):\n",
    "    cond=False\n",
    "    lista1=[]\n",
    "    lista2=[]\n",
    "    file1=open(f1)\n",
    "    file2=open(f2)\n",
    "    for i in file1:\n",
    "        lista1.append(i)\n",
    "    for e in file2:\n",
    "        lista2.append(e)   \n",
    "\n",
    "    if file2==file1:\n",
    "        cond=True\n",
    "    else:\n",
    "        cond=False\n",
    "         \n",
    "    file1.close() \n",
    "    file2.close() \n",
    "    return cond   "
   ]
  },
  {
   "cell_type": "code",
   "execution_count": 1,
   "metadata": {},
   "outputs": [
    {
     "data": {
      "image/png": "[encoded data removed]",
      "text/plain": [
       "<Figure size 640x480 with 1 Axes>"
      ]
     },
     "metadata": {},
     "output_type": "display_data"
    },
    {
     "name": "stdout",
     "output_type": "stream",
     "text": [
      "None\n"
     ]
    }
   ],
   "source": [
    "import matplotlib.pyplot as plt\n",
    "\n",
    "\n",
    "Filme1 = (\"Meet the Parents\", 2000, [\"Ben Stiller\",\"Robert De Niro\",\n",
    "      \"Blythe Danner\",\"Teri Polo\",\"Owen Wilson\"], [\"Comedy\", \"Drama\"])\n",
    "Filme2 = (\"Men of Honor\", 2000, [\"Robert De Niro\",\"Cuba Gooding, Jr.\",\n",
    "      \"Charlize Theron\"], [\"Biography\", \"Drama\", \"Thriller\"])\n",
    "Filme3 = (\"Analyze That\", 2002, [\"Robert De Niro\",\"Billy Crystal\",\n",
    "      \"Lisa Kudrow\"], [\"Comedy\"])\n",
    "CineUM = [Filme1, Filme2, Filme3]\n",
    "\n",
    "\n",
    "\n",
    "def atores(cinemateca):\n",
    "    lista=[]\n",
    "    for i in range(len(cinemateca)):\n",
    "       for e in cinemateca[i][2]:\n",
    "            lista.append(e)\n",
    "\n",
    "    lista.sort()        \n",
    "    return lista   \n",
    "\n",
    "def listarPorGenero(cinemateca, genero):\n",
    "    lista=[]\n",
    "    for i in range(len(cinemateca)):\n",
    "        for e in cinemateca[i][3]:\n",
    "            if e==genero:\n",
    "                lista.append(cinemateca[i][0])\n",
    "\n",
    "    lista.sort()        \n",
    "\n",
    "    return lista     \n",
    "                       \n",
    "\n",
    "\n",
    "def maiorElenco( cinemateca ):\n",
    "    max=0\n",
    "    for i in range(len(cinemateca)):\n",
    "        n=len(cinemateca[i][2])\n",
    "        if n>max:\n",
    "            max=n\n",
    "    for i in range(len(cinemateca)):    \n",
    "        if max==len(cinemateca[i][2]):\n",
    "            titulo=cinemateca[i][0]    \n",
    "\n",
    "              \n",
    "\n",
    "    return titulo        \n",
    "                \n",
    "\n",
    "\n",
    "def filmePorGenero( cinemateca ):\n",
    "    dici={}\n",
    "    for i in range(len(cinemateca)):\n",
    "        for e in cinemateca[i][3]:\n",
    "            if e not in dici:\n",
    "                dici[e]=1\n",
    "            else:\n",
    "                dici[e]+=1\n",
    "\n",
    "    return dici     \n",
    "\n",
    "def grafico( CineUM):\n",
    "    dici=filmePorGenero(CineUM)   \n",
    "    x=dici.keys()  \n",
    "    y=dici.values()\n",
    "    plt.bar(x,y)\n",
    "    plt.xlabel(\"Género\")\n",
    "    plt.ylabel(\"Frequência\")\n",
    "    plt.title(\"Distribuição por Género\")\n",
    "    plt.show()\n",
    "    \n",
    "\n",
    "print(grafico(CineUM))    \n",
    "\n"
   ]
  },
  {
   "cell_type": "code",
   "execution_count": null,
   "metadata": {},
   "outputs": [],
   "source": []
  }
 ],
 "metadata": {
  "kernelspec": {
   "display_name": "Python 3.10.7 64-bit",
   "language": "python",
   "name": "python3"
  },
  "language_info": {
   "codemirror_mode": {
    "name": "ipython",
    "version": 3
   },
   "file_extension": ".py",
   "mimetype": "text/x-python",
   "name": "python",
   "nbconvert_exporter": "python",
   "pygments_lexer": "ipython3",
   "version": "3.10.7"
  },
  "orig_nbformat": 4,
  "vscode": {
   "interpreter": {
    "hash": "107d7b120a5b68773a87d4067e673630b35702e55ebab3138143d08b1c4d7cbc"
   }
  }
 },
 "nbformat": 4,
 "nbformat_minor": 2
}
